{
  "metadata": {
    "language_info": {
      "codemirror_mode": {
        "name": "python",
        "version": 3
      },
      "file_extension": ".py",
      "mimetype": "text/x-python",
      "name": "python",
      "nbconvert_exporter": "python",
      "pygments_lexer": "ipython3",
      "version": "3.8"
    },
    "kernelspec": {
      "name": "python",
      "display_name": "Python (Pyodide)",
      "language": "python"
    }
  },
  "nbformat_minor": 4,
  "nbformat": 4,
  "cells": [
    {
      "cell_type": "markdown",
      "source": "<aside>\n💡 **Question 1**\n\nGiven two strings s and t, *determine if they are isomorphic*.\n\nTwo strings s and t are isomorphic if the characters in s can be replaced to get t.\n\nAll occurrences of a character must be replaced with another character while preserving the order of characters. No two characters may map to the same character, but a character may map to itself.\n\n**Example 1:**\n\n**Input:** s = \"egg\", t = \"add\"\n\n**Output:** true\n\n</aside>",
      "metadata": {}
    },
    {
      "cell_type": "code",
      "source": "def isIsomorphic(s, t):\n    if len(s) != len(t):\n        return False\n\n    s_map = {}\n    t_map = {}\n\n    for i in range(len(s)):\n        if s[i] not in s_map and t[i] not in t_map:\n            s_map[s[i]] = t[i]\n            t_map[t[i]] = s[i]\n        elif s_map.get(s[i]) != t[i] or t_map.get(t[i]) != s[i]:\n            return False\n\n    return True\n\n# Testing the example case\ns = \"egg\"\nt = \"add\"\nprint(isIsomorphic(s, t))\n",
      "metadata": {
        "trusted": true
      },
      "execution_count": 13,
      "outputs": [
        {
          "name": "stdout",
          "text": "True\n",
          "output_type": "stream"
        }
      ]
    },
    {
      "cell_type": "code",
      "source": "",
      "metadata": {},
      "execution_count": null,
      "outputs": []
    },
    {
      "cell_type": "markdown",
      "source": "<aside>\n💡 **Question 2**\n\nGiven a string num which represents an integer, return true *if* num *is a **strobogrammatic number***.\n\nA **strobogrammatic number** is a number that looks the same when rotated 180 degrees (looked at upside down).\n\n**Example 1:**\n\n**Input:** num = \"69\"\n\n**Output:**\n\ntrue\n\n</aside>",
      "metadata": {}
    },
    {
      "cell_type": "code",
      "source": "def isStrobogrammatic(num):\n    mapping = {'0': '0', '1': '1', '6': '9', '8': '8', '9': '6'}\n    left, right = 0, len(num) - 1\n\n    while left <= right:\n        if num[left] not in mapping or mapping[num[left]] != num[right]:\n            return False\n        left += 1\n        right -= 1\n\n    return True\n\n# Testing the example case\nnum = \"69\"\nprint(isStrobogrammatic(num))",
      "metadata": {
        "trusted": true
      },
      "execution_count": 14,
      "outputs": [
        {
          "name": "stdout",
          "text": "True\n",
          "output_type": "stream"
        }
      ]
    },
    {
      "cell_type": "code",
      "source": "",
      "metadata": {},
      "execution_count": null,
      "outputs": []
    },
    {
      "cell_type": "markdown",
      "source": "<aside>\n💡 **Question 3**\n\nGiven two non-negative integers, num1 and num2 represented as string, return *the sum of* num1 *and* num2 *as a string*.\n\nYou must solve the problem without using any built-in library for handling large integers (such as BigInteger). You must also not convert the inputs to integers directly.\n\n**Example 1:**\n\n**Input:** num1 = \"11\", num2 = \"123\"\n\n**Output:**\n\n\"134\"\n\n</aside>",
      "metadata": {}
    },
    {
      "cell_type": "code",
      "source": "def addStrings(num1, num2):\n    i, j = len(num1) - 1, len(num2) - 1\n    carry = 0\n    result = []\n\n    while i >= 0 or j >= 0 or carry != 0:\n        x = int(num1[i]) if i >= 0 else 0\n        y = int(num2[j]) if j >= 0 else 0\n        sum_digit = x + y + carry\n        carry = sum_digit // 10\n        result.append(str(sum_digit % 10))\n        i -= 1\n        j -= 1\n\n    return ''.join(result[::-1])\n\n# Testing the example case\nnum1 = \"11\"\nnum2 = \"123\"\nprint(addStrings(num1, num2))\n",
      "metadata": {
        "trusted": true
      },
      "execution_count": 20,
      "outputs": [
        {
          "name": "stdout",
          "text": "134\n",
          "output_type": "stream"
        }
      ]
    },
    {
      "cell_type": "code",
      "source": "",
      "metadata": {},
      "execution_count": null,
      "outputs": []
    },
    {
      "cell_type": "markdown",
      "source": "<aside>\n💡 **Question 4**\n\nGiven a string s, reverse the order of characters in each word within a sentence while still preserving whitespace and initial word order.\n\n**Example 1:**\n\n**Input:** s = \"Let's take LeetCode contest\"\n\n**Output:** \"s'teL ekat edoCteeL tsetnoc\"\n\n</aside>",
      "metadata": {}
    },
    {
      "cell_type": "code",
      "source": "def reverseWords(s):\n    words = s.split()\n    reversed_words = []\n\n    for word in words:\n        reversed_word = word[::-1]\n        reversed_words.append(reversed_word)\n\n    reversed_sentence = ' '.join(reversed_words)\n    return reversed_sentence\n\n# Testing the example case\ns = \"Let's take LeetCode contest\"\nprint(reverseWords(s))\n",
      "metadata": {
        "trusted": true
      },
      "execution_count": 19,
      "outputs": [
        {
          "name": "stdout",
          "text": "s'teL ekat edoCteeL tsetnoc\n",
          "output_type": "stream"
        }
      ]
    },
    {
      "cell_type": "code",
      "source": "",
      "metadata": {},
      "execution_count": null,
      "outputs": []
    },
    {
      "cell_type": "markdown",
      "source": "<aside>\n💡 **Question 5**\n\nGiven a string s and an integer k, reverse the first k characters for every 2k characters counting from the start of the string.\n\nIf there are fewer than k characters left, reverse all of them. If there are less than 2k but greater than or equal to k characters, then reverse the first k characters and leave the other as original.\n\n**Example 1:**\n\n**Input:** s = \"abcdefg\", k = 2\n\n**Output:**\n\n\"bacdfeg\n\n</aside>",
      "metadata": {}
    },
    {
      "cell_type": "code",
      "source": "def reverseStr(s, k):\n    s = list(s)\n    n = len(s)\n\n    for i in range(0, n, 2 * k):\n        start = i\n        end = min(i + k, n)\n        s[start:end] = s[start:end][::-1]\n\n    return ''.join(s)\n\n# Testing the example case\ns = \"abcdefg\"\nk = 2\nprint(reverseStr(s, k)) \n",
      "metadata": {
        "trusted": true
      },
      "execution_count": 23,
      "outputs": [
        {
          "name": "stdout",
          "text": "bacdfeg\n",
          "output_type": "stream"
        }
      ]
    },
    {
      "cell_type": "code",
      "source": "",
      "metadata": {},
      "execution_count": null,
      "outputs": []
    },
    {
      "cell_type": "markdown",
      "source": "<aside>\n💡 **Question 6**\n\nGiven two strings s and goal, return true *if and only if* s *can become* goal *after some number of **shifts** on* s.\n\nA **shift** on s consists of moving the leftmost character of s to the rightmost position.\n\n- For example, if s = \"abcde\", then it will be \"bcdea\" after one shift.\n\n**Example 1:**\n\n**Input:** s = \"abcde\", goal = \"cdeab\"\n\n**Output:**\n\ntrue\n\n</aside>",
      "metadata": {}
    },
    {
      "cell_type": "code",
      "source": "def rotateString(s, goal):\n    if len(s) != len(goal):\n        return False\n\n    s_concat = s + s\n    if goal in s_concat:\n        return True\n    else:\n        return False\n\n# Testing the example case\ns = \"abcde\"\ngoal = \"cdeab\"\nprint(rotateString(s, goal)) \n",
      "metadata": {
        "trusted": true
      },
      "execution_count": 22,
      "outputs": [
        {
          "name": "stdout",
          "text": "True\n",
          "output_type": "stream"
        }
      ]
    },
    {
      "cell_type": "code",
      "source": "",
      "metadata": {},
      "execution_count": null,
      "outputs": []
    },
    {
      "cell_type": "markdown",
      "source": "<aside>\n💡 **Question 7**\n\nGiven two strings s and t, return true *if they are equal when both are typed into empty text editors*. '#' means a backspace character.\n\nNote that after backspacing an empty text, the text will continue empty.\n\n**Example 1:**\n\n**Input:** s = \"ab#c\", t = \"ad#c\"\n\n**Output:** true\n\n**Explanation:**\n\nBoth s and t become \"ac\".\n\n</aside>",
      "metadata": {}
    },
    {
      "cell_type": "code",
      "source": "def processString(s):\n    processed = []\n    for ch in s:\n        if ch != '#':\n            processed.append(ch)\n        elif processed:\n            processed.pop()\n    return ''.join(processed)\n\ndef backspaceCompare(s, t):\n    processed_s = processString(s)\n    processed_t = processString(t)\n    return processed_s == processed_t\n\n# Testing the example case\ns = \"ab#c\"\nt = \"ad#c\"\nprint(backspaceCompare(s, t)) \n",
      "metadata": {
        "trusted": true
      },
      "execution_count": 25,
      "outputs": [
        {
          "name": "stdout",
          "text": "True\n",
          "output_type": "stream"
        }
      ]
    },
    {
      "cell_type": "code",
      "source": "",
      "metadata": {},
      "execution_count": null,
      "outputs": []
    },
    {
      "cell_type": "markdown",
      "source": "<aside>\n💡 **Question 8**\n\nYou are given an array coordinates, coordinates[i] = [x, y], where [x, y] represents the coordinate of a point. Check if these points make a straight line in the XY plane.\n\n**Example 1:**\n**Input:** coordinates = [[1,2],[2,3],[3,4],[4,5],[5,6],[6,7]]\n\n**Output:** true\n</aside>",
      "metadata": {}
    },
    {
      "cell_type": "code",
      "source": "def checkStraightLine(coordinates):\n    x1, y1 = coordinates[0]\n    x2, y2 = coordinates[1]\n    reference_slope = (y2 - y1) / (x2 - x1)\n\n    for i in range(2, len(coordinates)):\n        x, y = coordinates[i]\n        current_slope = (y - y1) / (x - x1)\n        if current_slope != reference_slope:\n            return False\n\n    return True\n\n# Testing the example case\ncoordinates = [[1, 2], [2, 3], [3, 4], [4, 5], [5, 6], [6, 7]]\nprint(checkStraightLine(coordinates)) \n",
      "metadata": {
        "trusted": true
      },
      "execution_count": 27,
      "outputs": [
        {
          "name": "stdout",
          "text": "True\n",
          "output_type": "stream"
        }
      ]
    },
    {
      "cell_type": "code",
      "source": "",
      "metadata": {},
      "execution_count": null,
      "outputs": []
    },
    {
      "cell_type": "code",
      "source": "",
      "metadata": {},
      "execution_count": null,
      "outputs": []
    },
    {
      "cell_type": "code",
      "source": "",
      "metadata": {},
      "execution_count": null,
      "outputs": []
    }
  ]
}